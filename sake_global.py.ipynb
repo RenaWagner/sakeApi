{
 "cells": [
  {
   "cell_type": "code",
   "execution_count": 1,
   "id": "e0e33d9c",
   "metadata": {},
   "outputs": [],
   "source": [
    "import requests\n",
    "from bs4 import BeautifulSoup"
   ]
  },
  {
   "cell_type": "code",
   "execution_count": 2,
   "id": "72638320",
   "metadata": {},
   "outputs": [],
   "source": [
    "url = \"https://sake-global.com/products-recommend/page/1/?lang=en#modal\""
   ]
  },
  {
   "cell_type": "code",
   "execution_count": 4,
   "id": "fa537f25",
   "metadata": {},
   "outputs": [
    {
     "name": "stdout",
     "output_type": "stream",
     "text": [
      "<div class=\"sake-list__meta-box__right\">\n",
      " <div class=\"sake-list__meta-box__right-title\">\n",
      "  <p class=\"sake-list__meta__title\">\n",
      "   Seiten Daiginjo\n",
      "  </p>\n",
      "  <p class=\"sake-list__meta__tag\">\n",
      "   Daiginjo\n",
      "  </p>\n",
      " </div>\n",
      " <div class=\"sake-list__meta-box__summary-wrap\">\n",
      "  <div class=\"sake-list__meta-box__summary-wrap__left\">\n",
      "   <p class=\"sake-list__meta__thumb sp_only\">\n",
      "    <img alt=\"\" class=\"attachment-listing-thumb size-listing-thumb wp-post-image\" height=\"300\" sizes=\"(max-width: 767px) 89vw, (max-width: 1000px) 54vw, (max-width: 1071px) 543px, 580px\" src=\"https://sake-global.com/wp/wp-content/uploads/2018/05/s_07.jpg\" srcset=\"https://sake-global.com/wp/wp-content/uploads/2018/05/s_07.jpg 300w, https://sake-global.com/wp/wp-content/uploads/2018/05/s_07-150x150.jpg 150w, https://sake-global.com/wp/wp-content/uploads/2018/05/s_07-100x100.jpg 100w\" width=\"300\"/>\n",
      "   </p>\n",
      "  </div>\n",
      "  <div class=\"sake-list__meta-box__summary-wrap__right\">\n",
      "   <p class=\"sake-list__meta__summary\">\n",
      "    Daiginjoshu of Hyogo Yamadanishiki (delux quality), polished to 35%, brewed at low temperature for over 40 days. Fruity aroma with refreshing aftertaste.\n",
      "   </p>\n",
      "   <div class=\"sake-list__meta-box__right-detail\">\n",
      "    <div class=\"sake-list__meta-box__right-detail__left\">\n",
      "     <p class=\"sake-list__meta__sake-type\">\n",
      "      <span>\n",
      "       Kind\n",
      "      </span>\n",
      "      <span>\n",
      "       Daiginjo\n",
      "      </span>\n",
      "     </p>\n",
      "     <p class=\"sake-list__meta__rice\">\n",
      "      <span>\n",
      "       Rice\n",
      "      </span>\n",
      "      <span>\n",
      "       Yamada-Nishiki (Hyogo)\n",
      "      </span>\n",
      "     </p>\n",
      "     <p class=\"sake-list__meta__percent\">\n",
      "      <span>\n",
      "       Polishing ratio\n",
      "      </span>\n",
      "      <span>\n",
      "       35%\n",
      "      </span>\n",
      "     </p>\n",
      "     <p class=\"sake-list__meta__jp-level\">\n",
      "      <span>\n",
      "       Nihonshu-do\n",
      "      </span>\n",
      "      <span>\n",
      "       +4\n",
      "      </span>\n",
      "     </p>\n",
      "     <p class=\"sake-list__meta__alcohol-level\">\n",
      "      <span>\n",
      "       Alcohol degree\n",
      "      </span>\n",
      "      <span>\n",
      "       16%\n",
      "      </span>\n",
      "     </p>\n",
      "    </div>\n",
      "    <div class=\"sake-list__meta-box__right-detail__right\">\n",
      "    </div>\n",
      "   </div>\n",
      "  </div>\n",
      " </div>\n",
      "</div>\n"
     ]
    }
   ],
   "source": [
    "req = requests.get(url+ str(1))\n",
    "soup = BeautifulSoup(req.text, 'html.parser')\n",
    "productInfo = soup.find('div',attrs = {'class','sake-list__meta-box__right'})\n",
    "print(productInfo.prettify())"
   ]
  },
  {
   "cell_type": "code",
   "execution_count": 3,
   "id": "3af53bdc",
   "metadata": {},
   "outputs": [
    {
     "ename": "NameError",
     "evalue": "name 'productInfo' is not defined",
     "output_type": "error",
     "traceback": [
      "\u001b[0;31m---------------------------------------------------------------------------\u001b[0m",
      "\u001b[0;31mNameError\u001b[0m                                 Traceback (most recent call last)",
      "\u001b[0;32m/var/folders/b0/_d1qk9tj0795kkpym61lkzmh0000gn/T/ipykernel_7667/3965265502.py\u001b[0m in \u001b[0;36m<module>\u001b[0;34m\u001b[0m\n\u001b[0;32m----> 1\u001b[0;31m \u001b[0msake_title\u001b[0m\u001b[0;34m=\u001b[0m\u001b[0mproductInfo\u001b[0m\u001b[0;34m.\u001b[0m\u001b[0mfind\u001b[0m\u001b[0;34m(\u001b[0m\u001b[0mclass_\u001b[0m\u001b[0;34m=\u001b[0m\u001b[0;34m\"sake-list__meta__title\"\u001b[0m\u001b[0;34m)\u001b[0m\u001b[0;34m\u001b[0m\u001b[0;34m\u001b[0m\u001b[0m\n\u001b[0m\u001b[1;32m      2\u001b[0m \u001b[0msake_title\u001b[0m\u001b[0;34m.\u001b[0m\u001b[0mcontents\u001b[0m\u001b[0;34m[\u001b[0m\u001b[0;36m0\u001b[0m\u001b[0;34m]\u001b[0m\u001b[0;34m\u001b[0m\u001b[0;34m\u001b[0m\u001b[0m\n",
      "\u001b[0;31mNameError\u001b[0m: name 'productInfo' is not defined"
     ]
    }
   ],
   "source": [
    "sake_title=productInfo.find(class_=\"sake-list__meta__title\")\n",
    "sake_title.contents[0]"
   ]
  },
  {
   "cell_type": "code",
   "execution_count": 15,
   "id": "6b93f0ad",
   "metadata": {},
   "outputs": [
    {
     "data": {
      "text/plain": [
       "'Daiginjo'"
      ]
     },
     "execution_count": 15,
     "metadata": {},
     "output_type": "execute_result"
    }
   ],
   "source": [
    "sake_type=productInfo.find(class_=\"sake-list__meta__sake-type\")\n",
    "sake_type.contents[1].contents[0]"
   ]
  },
  {
   "cell_type": "code",
   "execution_count": 17,
   "id": "bcd1488e",
   "metadata": {},
   "outputs": [
    {
     "data": {
      "text/plain": [
       "'Yamada-Nishiki (Hyogo)'"
      ]
     },
     "execution_count": 17,
     "metadata": {},
     "output_type": "execute_result"
    }
   ],
   "source": [
    "sake_rice=productInfo.find(class_=\"sake-list__meta__rice\")\n",
    "sake_rice.contents[1].contents[0]"
   ]
  },
  {
   "cell_type": "code",
   "execution_count": 18,
   "id": "497638a6",
   "metadata": {},
   "outputs": [
    {
     "data": {
      "text/plain": [
       "'35%'"
      ]
     },
     "execution_count": 18,
     "metadata": {},
     "output_type": "execute_result"
    }
   ],
   "source": [
    "sake_polish=productInfo.find(class_=\"sake-list__meta__percent\")\n",
    "sake_polish.contents[1].contents[0]"
   ]
  },
  {
   "cell_type": "code",
   "execution_count": null,
   "id": "0461acda",
   "metadata": {},
   "outputs": [],
   "source": [
    "shop_title, shop_link = shop_anchor_tag.contents[2].strip(), shop_anchor_tag['href']\n",
    "    print('%s: %s' % (shop_title, shop_link))"
   ]
  }
 ],
 "metadata": {
  "kernelspec": {
   "display_name": "Python 3 (ipykernel)",
   "language": "python",
   "name": "python3"
  },
  "language_info": {
   "codemirror_mode": {
    "name": "ipython",
    "version": 3
   },
   "file_extension": ".py",
   "mimetype": "text/x-python",
   "name": "python",
   "nbconvert_exporter": "python",
   "pygments_lexer": "ipython3",
   "version": "3.9.6"
  }
 },
 "nbformat": 4,
 "nbformat_minor": 5
}
