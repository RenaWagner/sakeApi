{
 "cells": [
  {
   "cell_type": "code",
   "execution_count": 1,
   "id": "18a21dda",
   "metadata": {},
   "outputs": [],
   "source": [
    "import requests\n",
    "from bs4 import BeautifulSoup"
   ]
  },
  {
   "cell_type": "markdown",
   "id": "c233700b",
   "metadata": {},
   "source": [
    "## Single sake info"
   ]
  },
  {
   "cell_type": "code",
   "execution_count": 2,
   "id": "c91179e2",
   "metadata": {},
   "outputs": [
    {
     "name": "stdout",
     "output_type": "stream",
     "text": [
      "<div class=\"product-info summary col-fit col entry-summary product-summary\">\n",
      " <nav class=\"woocommerce-breadcrumb breadcrumbs\">\n",
      "  <a href=\"https://sake.axisplan.com\">\n",
      "   Home\n",
      "  </a>\n",
      "  <span class=\"divider\">\n",
      "   /\n",
      "  </span>\n",
      "  <a href=\"https://sake.axisplan.com/product-category/sake/\">\n",
      "   SAKE\n",
      "  </a>\n",
      "  <span class=\"divider\">\n",
      "   /\n",
      "  </span>\n",
      "  <a href=\"https://sake.axisplan.com/product-category/sake/yucho-shuzo/\">\n",
      "   Yucho Shuzo\n",
      "  </a>\n",
      " </nav>\n",
      " <h1 class=\"product-title product_title entry-title\">\n",
      "  ALPHA KAZE NO MORI TYPE3\n",
      " </h1>\n",
      " <div class=\"is-divider small\">\n",
      " </div>\n",
      " <ul class=\"next-prev-thumbs is-small show-for-medium\">\n",
      "  <li class=\"prod-dropdown has-dropdown\">\n",
      "   <a class=\"button icon is-outline circle\" href=\"https://sake.axisplan.com/product/takacho-bodaimoto/\" rel=\"next\">\n",
      "    <i class=\"icon-angle-left\">\n",
      "    </i>\n",
      "   </a>\n",
      "   <div class=\"nav-dropdown\">\n",
      "    <a href=\"https://sake.axisplan.com/product/takacho-bodaimoto/\" title=\"TAKACHO BODAIMOTO\">\n",
      "     <img alt=\"Taka Chou Bodaimoto\" class=\"attachment-shop_thumbnail size-shop_thumbnail wp-post-image\" height=\"100\" loading=\"lazy\" sizes=\"(max-width: 100px) 100vw, 100px\" src=\"https://sake.axisplan.com/wp-content/uploads/2019/11/takacho-100x100.jpg\" srcset=\"https://sake.axisplan.com/wp-content/uploads/2019/11/takacho-100x100.jpg 100w, https://sake.axisplan.com/wp-content/uploads/2019/11/takacho-400x400.jpg 400w, https://sake.axisplan.com/wp-content/uploads/2019/11/takacho-280x280.jpg 280w, https://sake.axisplan.com/wp-content/uploads/2019/11/takacho-768x768.jpg 768w, https://sake.axisplan.com/wp-content/uploads/2019/11/takacho-510x510.jpg 510w, https://sake.axisplan.com/wp-content/uploads/2019/11/takacho.jpg 800w\" width=\"100\"/>\n",
      "    </a>\n",
      "   </div>\n",
      "  </li>\n",
      " </ul>\n",
      " <div class=\"product-short-description\">\n",
      "  <p>\n",
      "   <strong>\n",
      "    TYPE\n",
      "   </strong>\n",
      "   : Junmai Daiginjo\n",
      "   <br/>\n",
      "   <strong>\n",
      "    ALC(VOL.):\n",
      "   </strong>\n",
      "   14.0%\n",
      "   <br/>\n",
      "   <strong>\n",
      "    RICE\n",
      "   </strong>\n",
      "   : Akitsuho\n",
      "   <br/>\n",
      "   <strong>\n",
      "    RICE MILLING\n",
      "   </strong>\n",
      "   : 50%\n",
      "  </p>\n",
      "  <p>\n",
      "   <a class=\"button primary is-bevel\" href=\"https://sake.axisplan.com/sake-map/?sku=212173\" rel=\"noopener\" style=\"width:190px;\" target=\"_blank\">\n",
      "    <br/>\n",
      "    <span>\n",
      "     where to buy\n",
      "    </span>\n",
      "    <br/>\n",
      "   </a>\n",
      "  </p>\n",
      " </div>\n",
      " <a class=\"button secondary is-bevel\" href=\"https://sake.axisplan.com/contact/\" style=\"width:190px;\">\n",
      "  <span>\n",
      "   Contact us\n",
      "  </span>\n",
      " </a>\n",
      " <div class=\"product_meta\">\n",
      "  <span class=\"sku_wrapper\">\n",
      "   SKU:\n",
      "   <span class=\"sku\">\n",
      "    (BC) +212173- 720ml x 12 btls / (AB) +819857 - 720ml x 12 btls\n",
      "   </span>\n",
      "  </span>\n",
      "  <span class=\"posted_in\">\n",
      "   Category:\n",
      "   <a href=\"https://sake.axisplan.com/product-category/sake/yucho-shuzo/\" rel=\"tag\">\n",
      "    Yucho Shuzo\n",
      "   </a>\n",
      "  </span>\n",
      "  <span class=\"tagged_as\">\n",
      "   Tags:\n",
      "   <a href=\"https://sake.axisplan.com/product-tag/akitsuho/\" rel=\"tag\">\n",
      "    Akitsuho\n",
      "   </a>\n",
      "   ,\n",
      "   <a href=\"https://sake.axisplan.com/product-tag/fruity/\" rel=\"tag\">\n",
      "    Fruity\n",
      "   </a>\n",
      "   ,\n",
      "   <a href=\"https://sake.axisplan.com/product-tag/junmai-daiginjo/\" rel=\"tag\">\n",
      "    Junmai Daiginjo\n",
      "   </a>\n",
      "  </span>\n",
      " </div>\n",
      " <div class=\"social-icons share-icons share-row relative icon-style-outline\">\n",
      "  <a class=\"icon button circle is-outline tooltip whatsapp show-for-medium\" data-action=\"share/whatsapp/share\" href=\"whatsapp://send?text=ALPHA%20KAZE%20NO%20MORI%20TYPE3 - https://sake.axisplan.com/product/alpha-kaze-no-mori-type3/\" title=\"Share on WhatsApp\">\n",
      "   <i class=\"icon-phone\">\n",
      "   </i>\n",
      "  </a>\n",
      "  <a class=\"icon button circle is-outline tooltip facebook\" data-label=\"Facebook\" href=\"//www.facebook.com/sharer.php?u=https://sake.axisplan.com/product/alpha-kaze-no-mori-type3/\" onclick=\"window.open(this.href,this.title,'width=500,height=500,top=300px,left=300px');  return false;\" rel=\"noopener noreferrer nofollow\" target=\"_blank\" title=\"Share on Facebook\">\n",
      "   <i class=\"icon-facebook\">\n",
      "   </i>\n",
      "  </a>\n",
      "  <a class=\"icon button circle is-outline tooltip twitter\" href=\"//twitter.com/share?url=https://sake.axisplan.com/product/alpha-kaze-no-mori-type3/\" onclick=\"window.open(this.href,this.title,'width=500,height=500,top=300px,left=300px');  return false;\" rel=\"noopener noreferrer nofollow\" target=\"_blank\" title=\"Share on Twitter\">\n",
      "   <i class=\"icon-twitter\">\n",
      "   </i>\n",
      "  </a>\n",
      "  <a class=\"icon button circle is-outline tooltip email\" href=\"/cdn-cgi/l/email-protection#dbbeb5afbea9a2b4aea99bbabfbfa9bea8a8b3bea9bef5b8b4b6e4a8aeb9b1beb8afe69a978b939afee9eb909a819efee9eb9594fee9eb96948992fee9eb8f828b9ee8fdbab6abe0b9b4bfa2e698b3beb8b0fee9ebafb3b2a8fee9ebb4aeafe1fee9ebb3afafaba8e1f4f4a8bab0bef5baa3b2a8abb7bab5f5b8b4b6f4aba9b4bfaeb8aff4bab7abb3baf6b0baa1bef6b5b4f6b6b4a9b2f6afa2abbee8f4\" rel=\"nofollow\" title=\"Email to a Friend\">\n",
      "   <i class=\"icon-envelop\">\n",
      "   </i>\n",
      "  </a>\n",
      "  <a class=\"icon button circle is-outline tooltip pinterest\" href=\"//pinterest.com/pin/create/button/?url=https://sake.axisplan.com/product/alpha-kaze-no-mori-type3/&amp;media=https://sake.axisplan.com/wp-content/uploads/2018/10/alpha3_800-800x800.jpg&amp;description=ALPHA%20KAZE%20NO%20MORI%20TYPE3\" onclick=\"window.open(this.href,this.title,'width=500,height=500,top=300px,left=300px');  return false;\" rel=\"noopener noreferrer nofollow\" target=\"_blank\" title=\"Pin on Pinterest\">\n",
      "   <i class=\"icon-pinterest\">\n",
      "   </i>\n",
      "  </a>\n",
      " </div>\n",
      "</div>\n",
      "\n"
     ]
    }
   ],
   "source": [
    "url = \"https://sake.axisplan.com/product/alpha-kaze-no-mori-type3/\"\n",
    "headers = {\n",
    "    'User-Agent': 'Mozilla/5.0 (Macintosh; Intel Mac OS X 10.12; rv:55.0) Gecko/20100101 Firefox/55.0',\n",
    "}\n",
    "req = requests.get(url, headers=headers)\n",
    "soup = BeautifulSoup(req.text, 'html.parser').body\n",
    "product_info = soup.find('div',attrs = {'class','product-info'})\n",
    "print(product_info.prettify())"
   ]
  },
  {
   "cell_type": "code",
   "execution_count": 3,
   "id": "08de6868",
   "metadata": {},
   "outputs": [
    {
     "ename": "IndentationError",
     "evalue": "unexpected indent (308607242.py, line 5)",
     "output_type": "error",
     "traceback": [
      "\u001b[0;36m  File \u001b[0;32m\"/var/folders/b0/_d1qk9tj0795kkpym61lkzmh0000gn/T/ipykernel_45142/308607242.py\"\u001b[0;36m, line \u001b[0;32m5\u001b[0m\n\u001b[0;31m    sake_details = {\"title\": product_info.find(class_=\"product-title\").contents[0] if product_info.find(class_=\"product-title\").contents[0] else \"\",\u001b[0m\n\u001b[0m    ^\u001b[0m\n\u001b[0;31mIndentationError\u001b[0m\u001b[0;31m:\u001b[0m unexpected indent\n"
     ]
    }
   ],
   "source": [
    "def get_sake_details(url):\n",
    "    req = requests.get(url, headers=headers)\n",
    "    soup = BeautifulSoup(req.text, 'html.parser').body\n",
    "    product_info = soup.find('div',attrs = {'class','product-info'})\n",
    "     sake_details = {\"title\": product_info.find(class_=\"product-title\").contents[0],\n",
    "                    \"type\": product_info.find(class_=\"product-short-description\").contents[1].contents[1],\n",
    "                    \"rice\": product_info.find(class_=\"product-short-description\").contents[1].contents[9],\n",
    "                    \"polish_percentage\": product_info.find(class_=\"product-short-description\").contents[1].contents[13],\n",
    "                    \"alcohol\": product_info.find(class_=\"product-short-description\").contents[1].contents[5],\n",
    "                   }\n",
    "    \n",
    "    \n",
    "    return sake_details\n",
    "get_sake_details(url)"
   ]
  },
  {
   "cell_type": "markdown",
   "id": "5d29135b",
   "metadata": {},
   "source": [
    "## Get all urls"
   ]
  },
  {
   "cell_type": "code",
   "execution_count": null,
   "id": "c0278495",
   "metadata": {},
   "outputs": [],
   "source": [
    "global_url = \"https://sake.axisplan.com/sake-list/\"\n",
    "global_req = requests.get(global_url, headers=headers)\n",
    "global_soup = BeautifulSoup(global_req.text, 'html.parser').body"
   ]
  },
  {
   "cell_type": "code",
   "execution_count": null,
   "id": "6ba12612",
   "metadata": {
    "scrolled": true
   },
   "outputs": [],
   "source": [
    "single_box = global_soup.find(class_=\"product-small box\")\n",
    "print(single_box.prettify())"
   ]
  },
  {
   "cell_type": "code",
   "execution_count": null,
   "id": "fdc91e2c",
   "metadata": {},
   "outputs": [],
   "source": [
    "single_url = single_box.a['href']\n",
    "single_url"
   ]
  },
  {
   "cell_type": "code",
   "execution_count": null,
   "id": "c78581a9",
   "metadata": {},
   "outputs": [],
   "source": [
    "def get_url(single_box):\n",
    "    single_url = single_box.a['href']\n",
    "    return single_url\n",
    "get_url(single_box)"
   ]
  },
  {
   "cell_type": "code",
   "execution_count": null,
   "id": "d4abf675",
   "metadata": {},
   "outputs": [],
   "source": [
    "all_single_boxes = global_soup.find_all(\"div\", {\"class\": \"product-small box\"})\n",
    "all_single_boxes"
   ]
  },
  {
   "cell_type": "code",
   "execution_count": null,
   "id": "9a6bea55",
   "metadata": {
    "scrolled": true
   },
   "outputs": [],
   "source": [
    "all_urls = [get_url(single_box) for single_box in all_single_boxes]\n",
    "all_urls"
   ]
  },
  {
   "cell_type": "code",
   "execution_count": null,
   "id": "50a9cdb3",
   "metadata": {},
   "outputs": [],
   "source": [
    "all_products_info = [get_sake_details(url) for url in all_urls]"
   ]
  },
  {
   "cell_type": "code",
   "execution_count": null,
   "id": "46a4028b",
   "metadata": {},
   "outputs": [],
   "source": []
  }
 ],
 "metadata": {
  "kernelspec": {
   "display_name": "Python 3 (ipykernel)",
   "language": "python",
   "name": "python3"
  },
  "language_info": {
   "codemirror_mode": {
    "name": "ipython",
    "version": 3
   },
   "file_extension": ".py",
   "mimetype": "text/x-python",
   "name": "python",
   "nbconvert_exporter": "python",
   "pygments_lexer": "ipython3",
   "version": "3.9.6"
  }
 },
 "nbformat": 4,
 "nbformat_minor": 5
}
