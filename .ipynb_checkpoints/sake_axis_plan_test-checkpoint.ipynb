{
 "cells": [
  {
   "cell_type": "code",
   "execution_count": 10,
   "id": "007961f7",
   "metadata": {},
   "outputs": [],
   "source": [
    "import requests\n",
    "from bs4 import BeautifulSoup"
   ]
  },
  {
   "cell_type": "code",
   "execution_count": 11,
   "id": "91beb826",
   "metadata": {
    "scrolled": false
   },
   "outputs": [
    {
     "name": "stdout",
     "output_type": "stream",
     "text": [
      "<div class=\"product-info summary col-fit col entry-summary product-summary\">\n",
      " <nav class=\"woocommerce-breadcrumb breadcrumbs\">\n",
      "  <a href=\"https://sake.axisplan.com\">\n",
      "   Home\n",
      "  </a>\n",
      "  <span class=\"divider\">\n",
      "   /\n",
      "  </span>\n",
      "  <a href=\"https://sake.axisplan.com/product-category/sake/\">\n",
      "   SAKE\n",
      "  </a>\n",
      "  <span class=\"divider\">\n",
      "   /\n",
      "  </span>\n",
      "  <a href=\"https://sake.axisplan.com/product-category/sake/dewazakura/\">\n",
      "   Dewazakura\n",
      "  </a>\n",
      " </nav>\n",
      " <h1 class=\"product-title product_title entry-title\">\n",
      "  JUNMAI DAIGINJO GENSHU\n",
      " </h1>\n",
      " <div class=\"is-divider small\">\n",
      " </div>\n",
      " <ul class=\"next-prev-thumbs is-small show-for-medium\">\n",
      "  <li class=\"prod-dropdown has-dropdown\">\n",
      "   <a class=\"button icon is-outline circle\" href=\"https://sake.axisplan.com/product/dewazakura-awasake/\" rel=\"next\">\n",
      "    <i class=\"icon-angle-left\">\n",
      "    </i>\n",
      "   </a>\n",
      "   <div class=\"nav-dropdown\">\n",
      "    <a href=\"https://sake.axisplan.com/product/dewazakura-awasake/\" title=\"AWA SAKE\">\n",
      "     <img alt=\"Awa Sake Dewazakura Yamagata\" class=\"attachment-shop_thumbnail size-shop_thumbnail wp-post-image\" height=\"100\" loading=\"lazy\" sizes=\"(max-width: 100px) 100vw, 100px\" src=\"https://sake.axisplan.com/wp-content/uploads/2019/06/awaSake_dewazakuraw02-100x100.jpg\" srcset=\"https://sake.axisplan.com/wp-content/uploads/2019/06/awaSake_dewazakuraw02-100x100.jpg 100w, https://sake.axisplan.com/wp-content/uploads/2019/06/awaSake_dewazakuraw02-280x280.jpg 280w, https://sake.axisplan.com/wp-content/uploads/2019/06/awaSake_dewazakuraw02-400x400.jpg 400w, https://sake.axisplan.com/wp-content/uploads/2019/06/awaSake_dewazakuraw02-768x768.jpg 768w, https://sake.axisplan.com/wp-content/uploads/2019/06/awaSake_dewazakuraw02.jpg 800w, https://sake.axisplan.com/wp-content/uploads/2019/06/awaSake_dewazakuraw02-510x510.jpg 510w\" width=\"100\"/>\n",
      "    </a>\n",
      "   </div>\n",
      "  </li>\n",
      "  <li class=\"prod-dropdown has-dropdown\">\n",
      "   <a class=\"button icon is-outline circle\" href=\"https://sake.axisplan.com/product/omachi-junmai-ginjo/\" rel=\"next\">\n",
      "    <i class=\"icon-angle-right\">\n",
      "    </i>\n",
      "   </a>\n",
      "   <div class=\"nav-dropdown\">\n",
      "    <a href=\"https://sake.axisplan.com/product/omachi-junmai-ginjo/\" title=\"Omachi Junmai Ginjo\">\n",
      "     <img alt=\"Omachi Junmai Daiginjo Dewazakura Yamagata\" class=\"attachment-shop_thumbnail size-shop_thumbnail wp-post-image\" height=\"100\" loading=\"lazy\" sizes=\"(max-width: 100px) 100vw, 100px\" src=\"https://sake.axisplan.com/wp-content/uploads/2019/06/omachi_JG_800-100x100.jpg\" srcset=\"https://sake.axisplan.com/wp-content/uploads/2019/06/omachi_JG_800-100x100.jpg 100w, https://sake.axisplan.com/wp-content/uploads/2019/06/omachi_JG_800-280x280.jpg 280w, https://sake.axisplan.com/wp-content/uploads/2019/06/omachi_JG_800-400x400.jpg 400w, https://sake.axisplan.com/wp-content/uploads/2019/06/omachi_JG_800-768x768.jpg 768w, https://sake.axisplan.com/wp-content/uploads/2019/06/omachi_JG_800.jpg 800w, https://sake.axisplan.com/wp-content/uploads/2019/06/omachi_JG_800-510x510.jpg 510w\" width=\"100\"/>\n",
      "    </a>\n",
      "   </div>\n",
      "  </li>\n",
      " </ul>\n",
      " <div class=\"product-short-description\">\n",
      "  <p>\n",
      "   <strong>\n",
      "    TYPE\n",
      "   </strong>\n",
      "   : Junmai Daiginjo\n",
      "   <br/>\n",
      "   <strong>\n",
      "    ALC(VOL.):\n",
      "   </strong>\n",
      "   17.0%\n",
      "   <br/>\n",
      "   <strong>\n",
      "    SMV:\n",
      "   </strong>\n",
      "   +2.0\n",
      "   <br/>\n",
      "   <strong>\n",
      "    ACIDITY\n",
      "   </strong>\n",
      "   : 1.0\n",
      "   <br/>\n",
      "   <strong>\n",
      "    RICE\n",
      "   </strong>\n",
      "   : Yamadanishiki\n",
      "   <br/>\n",
      "   <strong>\n",
      "    RICE MILLING\n",
      "   </strong>\n",
      "   : 45%\n",
      "   <br/>\n",
      "   <strong>\n",
      "    NOTE\n",
      "   </strong>\n",
      "   : with a box\n",
      "   <br/>\n",
      "   <br/>\n",
      "   <a class=\"button primary is-bevel\" href=\"https://sake.axisplan.com/sake-map/?sku=191276\" rel=\"noopener\" style=\"width:190px;\" target=\"_blank\">\n",
      "    <br/>\n",
      "    <span>\n",
      "     where to buy\n",
      "    </span>\n",
      "    <br/>\n",
      "   </a>\n",
      "  </p>\n",
      " </div>\n",
      " <a class=\"button secondary is-bevel\" href=\"https://sake.axisplan.com/contact/\" style=\"width:190px;\">\n",
      "  <span>\n",
      "   Contact us\n",
      "  </span>\n",
      " </a>\n",
      " <div class=\"product_meta\">\n",
      "  <span class=\"sku_wrapper\">\n",
      "   SKU:\n",
      "   <span class=\"sku\">\n",
      "    (BC) +191276 - 720ml x 6 btls /\n",
      "   </span>\n",
      "  </span>\n",
      "  <span class=\"posted_in\">\n",
      "   Categories:\n",
      "   <a href=\"https://sake.axisplan.com/product-category/sake/dewazakura/\" rel=\"tag\">\n",
      "    Dewazakura\n",
      "   </a>\n",
      "   ,\n",
      "   <a href=\"https://sake.axisplan.com/product-category/sake/\" rel=\"tag\">\n",
      "    SAKE\n",
      "   </a>\n",
      "  </span>\n",
      "  <span class=\"tagged_as\">\n",
      "   Tags:\n",
      "   <a href=\"https://sake.axisplan.com/product-tag/dry/\" rel=\"tag\">\n",
      "    Dry\n",
      "   </a>\n",
      "   ,\n",
      "   <a href=\"https://sake.axisplan.com/product-tag/genshu/\" rel=\"tag\">\n",
      "    genshu\n",
      "   </a>\n",
      "   ,\n",
      "   <a href=\"https://sake.axisplan.com/product-tag/junmai-daiginjo/\" rel=\"tag\">\n",
      "    Junmai Daiginjo\n",
      "   </a>\n",
      "   ,\n",
      "   <a href=\"https://sake.axisplan.com/product-tag/well-balanced/\" rel=\"tag\">\n",
      "    Well-balanced\n",
      "   </a>\n",
      "  </span>\n",
      " </div>\n",
      " <div class=\"social-icons share-icons share-row relative icon-style-outline\">\n",
      "  <a class=\"icon button circle is-outline tooltip whatsapp show-for-medium\" data-action=\"share/whatsapp/share\" href=\"whatsapp://send?text=JUNMAI%20DAIGINJO%20GENSHU - https://sake.axisplan.com/product/junmai-daiginjo-genshu/\" title=\"Share on WhatsApp\">\n",
      "   <i class=\"icon-phone\">\n",
      "   </i>\n",
      "  </a>\n",
      "  <a class=\"icon button circle is-outline tooltip facebook\" data-label=\"Facebook\" href=\"//www.facebook.com/sharer.php?u=https://sake.axisplan.com/product/junmai-daiginjo-genshu/\" onclick=\"window.open(this.href,this.title,'width=500,height=500,top=300px,left=300px');  return false;\" rel=\"noopener noreferrer nofollow\" target=\"_blank\" title=\"Share on Facebook\">\n",
      "   <i class=\"icon-facebook\">\n",
      "   </i>\n",
      "  </a>\n",
      "  <a class=\"icon button circle is-outline tooltip twitter\" href=\"//twitter.com/share?url=https://sake.axisplan.com/product/junmai-daiginjo-genshu/\" onclick=\"window.open(this.href,this.title,'width=500,height=500,top=300px,left=300px');  return false;\" rel=\"noopener noreferrer nofollow\" target=\"_blank\" title=\"Share on Twitter\">\n",
      "   <i class=\"icon-twitter\">\n",
      "   </i>\n",
      "  </a>\n",
      "  <a class=\"icon button circle is-outline tooltip email\" href=\"/cdn-cgi/l/email-protection#6c090218091e1503191e2c0d08081e091f1f04091e09420f0301531f190e06090f1851263922212d25495e5c282d252b25222623495e5c2b29223f24394a0d011c570e030815512f04090f07495e5c1804051f495e5c03191856495e5c0418181c1f5643431f0d0709420d14051f1c000d02420f0301431c1e0308190f1843061902010d0541080d050b05020603410b09021f041943\" rel=\"nofollow\" title=\"Email to a Friend\">\n",
      "   <i class=\"icon-envelop\">\n",
      "   </i>\n",
      "  </a>\n",
      "  <a class=\"icon button circle is-outline tooltip pinterest\" href=\"//pinterest.com/pin/create/button/?url=https://sake.axisplan.com/product/junmai-daiginjo-genshu/&amp;media=https://sake.axisplan.com/wp-content/uploads/2019/06/genshu_JDG_800-800x800.jpg&amp;description=JUNMAI%20DAIGINJO%20GENSHU\" onclick=\"window.open(this.href,this.title,'width=500,height=500,top=300px,left=300px');  return false;\" rel=\"noopener noreferrer nofollow\" target=\"_blank\" title=\"Pin on Pinterest\">\n",
      "   <i class=\"icon-pinterest\">\n",
      "   </i>\n",
      "  </a>\n",
      " </div>\n",
      "</div>\n",
      "\n"
     ]
    }
   ],
   "source": [
    "url = \"https://sake.axisplan.com/product/junmai-daiginjo-genshu/\"\n",
    "headers = {\n",
    "    'User-Agent': 'Mozilla/5.0 (Macintosh; Intel Mac OS X 10.12; rv:55.0) Gecko/20100101 Firefox/55.0',\n",
    "}\n",
    "req = requests.get(url, headers=headers)\n",
    "soup = BeautifulSoup(req.text, 'html.parser').body\n",
    "# print(soup)\n",
    "product_info = soup.find('div',attrs = {'class','product-info'})\n",
    "print(product_info.prettify())"
   ]
  },
  {
   "cell_type": "code",
   "execution_count": 12,
   "id": "e8aa0d77",
   "metadata": {},
   "outputs": [
    {
     "data": {
      "text/plain": [
       "'\\n\\tJUNMAI DAIGINJO GENSHU'"
      ]
     },
     "execution_count": 12,
     "metadata": {},
     "output_type": "execute_result"
    }
   ],
   "source": [
    "sake_title=product_info.find(class_=\"product-title\")\n",
    "sake_title.contents[0]"
   ]
  },
  {
   "cell_type": "code",
   "execution_count": 13,
   "id": "7631af4d",
   "metadata": {},
   "outputs": [
    {
     "data": {
      "text/plain": [
       "<p><strong>TYPE</strong>: Junmai Daiginjo<br/>\n",
       "<strong>ALC(VOL.):</strong> 17.0%<br/>\n",
       "<strong>SMV:</strong> +2.0<br/>\n",
       "<strong>ACIDITY</strong>: 1.0<br/>\n",
       "<strong>RICE</strong>: Yamadanishiki<br/>\n",
       "<strong>RICE MILLING</strong>: 45%<br/>\n",
       "<strong>NOTE</strong>: with a box<br/>\n",
       "<br/>\n",
       "<a class=\"button primary is-bevel\" href=\"https://sake.axisplan.com/sake-map/?sku=191276\" rel=\"noopener\" style=\"width:190px;\" target=\"_blank\"><br/>\n",
       "<span>where to buy</span><br/>\n",
       "</a></p>"
      ]
     },
     "execution_count": 13,
     "metadata": {},
     "output_type": "execute_result"
    }
   ],
   "source": [
    "sake_description=product_info.find(class_=\"product-short-description\").find('p')\n",
    "sake_description"
   ]
  },
  {
   "cell_type": "code",
   "execution_count": 14,
   "id": "d8fb4ae4",
   "metadata": {},
   "outputs": [
    {
     "data": {
      "text/plain": [
       "<p><strong>TYPE</strong>: Junmai Daiginjo<br/>\n",
       "<strong>ALC(VOL.):</strong> 17.0%<br/>\n",
       "<strong>SMV:</strong> +2.0<br/>\n",
       "<strong>ACIDITY</strong>: 1.0<br/>\n",
       "<strong>RICE</strong>: Yamadanishiki<br/>\n",
       "<strong>RICE MILLING</strong>: 45%<br/>\n",
       "<strong>NOTE</strong>: with a box<br/>\n",
       "<br/>\n",
       "</p>"
      ]
     },
     "execution_count": 14,
     "metadata": {},
     "output_type": "execute_result"
    }
   ],
   "source": [
    "sake_cleanup = sake_description.find('a').decompose()\n",
    "# sake_strong_tags=sake_description.find_all('strong')\n",
    "# sake_strong_tags\n",
    "sake_description"
   ]
  },
  {
   "cell_type": "code",
   "execution_count": 15,
   "id": "cd59ae45",
   "metadata": {},
   "outputs": [
    {
     "data": {
      "text/plain": [
       "<p><strong>TYPE</strong>: Junmai Daiginjo\n",
       "<strong>ALC(VOL.):</strong> 17.0%\n",
       "<strong>SMV:</strong> +2.0\n",
       "<strong>ACIDITY</strong>: 1.0\n",
       "<strong>RICE</strong>: Yamadanishiki\n",
       "<strong>RICE MILLING</strong>: 45%\n",
       "<strong>NOTE</strong>: with a box\n",
       "\n",
       "</p>"
      ]
     },
     "execution_count": 15,
     "metadata": {},
     "output_type": "execute_result"
    }
   ],
   "source": [
    "for div in sake_description.find_all(\"br\"): \n",
    "    div.decompose()\n",
    "sake_description"
   ]
  },
  {
   "cell_type": "code",
   "execution_count": 16,
   "id": "2cfc2749",
   "metadata": {},
   "outputs": [
    {
     "data": {
      "text/plain": [
       "<p>TYPE: Junmai Daiginjo\n",
       "ALC(VOL.): 17.0%\n",
       "SMV: +2.0\n",
       "ACIDITY: 1.0\n",
       "RICE: Yamadanishiki\n",
       "RICE MILLING: 45%\n",
       "NOTE: with a box\n",
       "\n",
       "</p>"
      ]
     },
     "execution_count": 16,
     "metadata": {},
     "output_type": "execute_result"
    }
   ],
   "source": [
    "for div in sake_description.find_all(\"strong\"): \n",
    "    div.unwrap()\n",
    "sake_description"
   ]
  },
  {
   "cell_type": "code",
   "execution_count": 17,
   "id": "d089c627",
   "metadata": {},
   "outputs": [
    {
     "data": {
      "text/plain": [
       "'ALC(VOL.):'"
      ]
     },
     "execution_count": 17,
     "metadata": {},
     "output_type": "execute_result"
    }
   ],
   "source": [
    "# sake_description.contents[3]"
   ]
  },
  {
   "cell_type": "code",
   "execution_count": 18,
   "id": "029d36e3",
   "metadata": {},
   "outputs": [
    {
     "data": {
      "text/plain": [
       "'TYPE: Junmai Daiginjo\\nALC(VOL.): 17.0%\\nSMV: +2.0\\nACIDITY: 1.0\\nRICE: Yamadanishiki\\nRICE MILLING: 45%\\nNOTE: with a box\\n\\n'"
      ]
     },
     "execution_count": 18,
     "metadata": {},
     "output_type": "execute_result"
    }
   ],
   "source": [
    "sake_text=sake_description.get_text()\n",
    "sake_text"
   ]
  },
  {
   "cell_type": "code",
   "execution_count": 19,
   "id": "79469aaf",
   "metadata": {},
   "outputs": [
    {
     "data": {
      "text/plain": [
       "['TYPE: Junmai Daiginjo',\n",
       " 'ALC(VOL.): 17.0%',\n",
       " 'SMV: +2.0',\n",
       " 'ACIDITY: 1.0',\n",
       " 'RICE: Yamadanishiki',\n",
       " 'RICE MILLING: 45%',\n",
       " 'NOTE: with a box',\n",
       " '']"
      ]
     },
     "execution_count": 19,
     "metadata": {},
     "output_type": "execute_result"
    }
   ],
   "source": [
    "test = sake_text.splitlines()\n",
    "test"
   ]
  },
  {
   "cell_type": "code",
   "execution_count": 27,
   "id": "c9dda41c",
   "metadata": {},
   "outputs": [
    {
     "data": {
      "text/plain": [
       "['TYPE: Junmai Daiginjo',\n",
       " 'ALC(VOL.): 17.0%',\n",
       " 'SMV: +2.0',\n",
       " 'ACIDITY: 1.0',\n",
       " 'RICE: Yamadanishiki',\n",
       " 'RICE MILLING: 45%',\n",
       " 'NOTE: with a box']"
      ]
     },
     "execution_count": 27,
     "metadata": {},
     "output_type": "execute_result"
    }
   ],
   "source": [
    "clean_list=[]\n",
    "for item in test:\n",
    "    if item:\n",
    "        clean_list.append(item)\n",
    "clean_list"
   ]
  },
  {
   "cell_type": "code",
   "execution_count": null,
   "id": "98eb89d6",
   "metadata": {},
   "outputs": [],
   "source": []
  },
  {
   "cell_type": "code",
   "execution_count": null,
   "id": "7c0213dd",
   "metadata": {},
   "outputs": [],
   "source": [
    "sake_tes_text='TYPE: Junmai Daiginjo\\nALC(VOL.): 17.0%\\nSMV: +2.0\\nACIDITY: 1.0\\nRICE: Yamadanishiki\\nRICE MILLING: 45%\\nNOTE: with a box\\n'\n",
    "sake_tes = dict(entry.split(':') for entry in sake_tes_text.split('\\n'))\n",
    "sake_tes"
   ]
  },
  {
   "cell_type": "code",
   "execution_count": null,
   "id": "cff0275d",
   "metadata": {},
   "outputs": [],
   "source": [
    "sake_rice=product_info.find(class_=\"product-short-description\")\n",
    "sake_rice.contents[1].contents[9]"
   ]
  },
  {
   "cell_type": "code",
   "execution_count": null,
   "id": "9dec7d7e",
   "metadata": {},
   "outputs": [],
   "source": [
    "sake_polish=product_info.find(class_=\"product-short-description\")\n",
    "sake_polish.contents[1].contents[13]"
   ]
  },
  {
   "cell_type": "code",
   "execution_count": null,
   "id": "24bda4cf",
   "metadata": {},
   "outputs": [],
   "source": [
    "sake_alcohol=product_info.find(class_=\"product-short-description\")\n",
    "sake_alcohol.contents[1].contents[5]"
   ]
  },
  {
   "cell_type": "code",
   "execution_count": null,
   "id": "0e4f4f02",
   "metadata": {},
   "outputs": [],
   "source": []
  }
 ],
 "metadata": {
  "kernelspec": {
   "display_name": "Python 3 (ipykernel)",
   "language": "python",
   "name": "python3"
  },
  "language_info": {
   "codemirror_mode": {
    "name": "ipython",
    "version": 3
   },
   "file_extension": ".py",
   "mimetype": "text/x-python",
   "name": "python",
   "nbconvert_exporter": "python",
   "pygments_lexer": "ipython3",
   "version": "3.9.6"
  }
 },
 "nbformat": 4,
 "nbformat_minor": 5
}
