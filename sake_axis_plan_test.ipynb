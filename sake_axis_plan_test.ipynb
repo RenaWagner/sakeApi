{
 "cells": [
  {
   "cell_type": "code",
   "execution_count": 111,
   "id": "007961f7",
   "metadata": {},
   "outputs": [],
   "source": [
    "import requests\n",
    "from bs4 import BeautifulSoup"
   ]
  },
  {
   "cell_type": "code",
   "execution_count": 112,
   "id": "91beb826",
   "metadata": {
    "scrolled": false
   },
   "outputs": [
    {
     "name": "stdout",
     "output_type": "stream",
     "text": [
      "<div class=\"product-info summary col-fit col entry-summary product-summary\">\n",
      " <nav class=\"woocommerce-breadcrumb breadcrumbs\">\n",
      "  <a href=\"https://sake.axisplan.com\">\n",
      "   Home\n",
      "  </a>\n",
      "  <span class=\"divider\">\n",
      "   /\n",
      "  </span>\n",
      "  <a href=\"https://sake.axisplan.com/product-category/sake/\">\n",
      "   SAKE\n",
      "  </a>\n",
      "  <span class=\"divider\">\n",
      "   /\n",
      "  </span>\n",
      "  <a href=\"https://sake.axisplan.com/product-category/sake/dewazakura/\">\n",
      "   Dewazakura\n",
      "  </a>\n",
      " </nav>\n",
      " <h1 class=\"product-title product_title entry-title\">\n",
      "  JUNMAI DAIGINJO GENSHU\n",
      " </h1>\n",
      " <div class=\"is-divider small\">\n",
      " </div>\n",
      " <ul class=\"next-prev-thumbs is-small show-for-medium\">\n",
      "  <li class=\"prod-dropdown has-dropdown\">\n",
      "   <a class=\"button icon is-outline circle\" href=\"https://sake.axisplan.com/product/dewazakura-awasake/\" rel=\"next\">\n",
      "    <i class=\"icon-angle-left\">\n",
      "    </i>\n",
      "   </a>\n",
      "   <div class=\"nav-dropdown\">\n",
      "    <a href=\"https://sake.axisplan.com/product/dewazakura-awasake/\" title=\"AWA SAKE\">\n",
      "     <img alt=\"Awa Sake Dewazakura Yamagata\" class=\"attachment-shop_thumbnail size-shop_thumbnail wp-post-image\" height=\"100\" loading=\"lazy\" sizes=\"(max-width: 100px) 100vw, 100px\" src=\"https://sake.axisplan.com/wp-content/uploads/2019/06/awaSake_dewazakuraw02-100x100.jpg\" srcset=\"https://sake.axisplan.com/wp-content/uploads/2019/06/awaSake_dewazakuraw02-100x100.jpg 100w, https://sake.axisplan.com/wp-content/uploads/2019/06/awaSake_dewazakuraw02-280x280.jpg 280w, https://sake.axisplan.com/wp-content/uploads/2019/06/awaSake_dewazakuraw02-400x400.jpg 400w, https://sake.axisplan.com/wp-content/uploads/2019/06/awaSake_dewazakuraw02-768x768.jpg 768w, https://sake.axisplan.com/wp-content/uploads/2019/06/awaSake_dewazakuraw02.jpg 800w, https://sake.axisplan.com/wp-content/uploads/2019/06/awaSake_dewazakuraw02-510x510.jpg 510w\" width=\"100\"/>\n",
      "    </a>\n",
      "   </div>\n",
      "  </li>\n",
      "  <li class=\"prod-dropdown has-dropdown\">\n",
      "   <a class=\"button icon is-outline circle\" href=\"https://sake.axisplan.com/product/omachi-junmai-ginjo/\" rel=\"next\">\n",
      "    <i class=\"icon-angle-right\">\n",
      "    </i>\n",
      "   </a>\n",
      "   <div class=\"nav-dropdown\">\n",
      "    <a href=\"https://sake.axisplan.com/product/omachi-junmai-ginjo/\" title=\"Omachi Junmai Ginjo\">\n",
      "     <img alt=\"Omachi Junmai Daiginjo Dewazakura Yamagata\" class=\"attachment-shop_thumbnail size-shop_thumbnail wp-post-image\" height=\"100\" loading=\"lazy\" sizes=\"(max-width: 100px) 100vw, 100px\" src=\"https://sake.axisplan.com/wp-content/uploads/2019/06/omachi_JG_800-100x100.jpg\" srcset=\"https://sake.axisplan.com/wp-content/uploads/2019/06/omachi_JG_800-100x100.jpg 100w, https://sake.axisplan.com/wp-content/uploads/2019/06/omachi_JG_800-280x280.jpg 280w, https://sake.axisplan.com/wp-content/uploads/2019/06/omachi_JG_800-400x400.jpg 400w, https://sake.axisplan.com/wp-content/uploads/2019/06/omachi_JG_800-768x768.jpg 768w, https://sake.axisplan.com/wp-content/uploads/2019/06/omachi_JG_800.jpg 800w, https://sake.axisplan.com/wp-content/uploads/2019/06/omachi_JG_800-510x510.jpg 510w\" width=\"100\"/>\n",
      "    </a>\n",
      "   </div>\n",
      "  </li>\n",
      " </ul>\n",
      " <div class=\"product-short-description\">\n",
      "  <p>\n",
      "   <strong>\n",
      "    TYPE\n",
      "   </strong>\n",
      "   : Junmai Daiginjo\n",
      "   <br/>\n",
      "   <strong>\n",
      "    ALC(VOL.):\n",
      "   </strong>\n",
      "   17.0%\n",
      "   <br/>\n",
      "   <strong>\n",
      "    SMV:\n",
      "   </strong>\n",
      "   +2.0\n",
      "   <br/>\n",
      "   <strong>\n",
      "    ACIDITY\n",
      "   </strong>\n",
      "   : 1.0\n",
      "   <br/>\n",
      "   <strong>\n",
      "    RICE\n",
      "   </strong>\n",
      "   : Yamadanishiki\n",
      "   <br/>\n",
      "   <strong>\n",
      "    RICE MILLING\n",
      "   </strong>\n",
      "   : 45%\n",
      "   <br/>\n",
      "   <strong>\n",
      "    NOTE\n",
      "   </strong>\n",
      "   : with a box\n",
      "   <br/>\n",
      "   <br/>\n",
      "   <a class=\"button primary is-bevel\" href=\"https://sake.axisplan.com/sake-map/?sku=191276\" rel=\"noopener\" style=\"width:190px;\" target=\"_blank\">\n",
      "    <br/>\n",
      "    <span>\n",
      "     where to buy\n",
      "    </span>\n",
      "    <br/>\n",
      "   </a>\n",
      "  </p>\n",
      " </div>\n",
      " <a class=\"button secondary is-bevel\" href=\"https://sake.axisplan.com/contact/\" style=\"width:190px;\">\n",
      "  <span>\n",
      "   Contact us\n",
      "  </span>\n",
      " </a>\n",
      " <div class=\"product_meta\">\n",
      "  <span class=\"sku_wrapper\">\n",
      "   SKU:\n",
      "   <span class=\"sku\">\n",
      "    (BC) +191276 - 720ml x 6 btls /\n",
      "   </span>\n",
      "  </span>\n",
      "  <span class=\"posted_in\">\n",
      "   Categories:\n",
      "   <a href=\"https://sake.axisplan.com/product-category/sake/dewazakura/\" rel=\"tag\">\n",
      "    Dewazakura\n",
      "   </a>\n",
      "   ,\n",
      "   <a href=\"https://sake.axisplan.com/product-category/sake/\" rel=\"tag\">\n",
      "    SAKE\n",
      "   </a>\n",
      "  </span>\n",
      "  <span class=\"tagged_as\">\n",
      "   Tags:\n",
      "   <a href=\"https://sake.axisplan.com/product-tag/dry/\" rel=\"tag\">\n",
      "    Dry\n",
      "   </a>\n",
      "   ,\n",
      "   <a href=\"https://sake.axisplan.com/product-tag/genshu/\" rel=\"tag\">\n",
      "    genshu\n",
      "   </a>\n",
      "   ,\n",
      "   <a href=\"https://sake.axisplan.com/product-tag/junmai-daiginjo/\" rel=\"tag\">\n",
      "    Junmai Daiginjo\n",
      "   </a>\n",
      "   ,\n",
      "   <a href=\"https://sake.axisplan.com/product-tag/well-balanced/\" rel=\"tag\">\n",
      "    Well-balanced\n",
      "   </a>\n",
      "  </span>\n",
      " </div>\n",
      " <div class=\"social-icons share-icons share-row relative icon-style-outline\">\n",
      "  <a class=\"icon button circle is-outline tooltip whatsapp show-for-medium\" data-action=\"share/whatsapp/share\" href=\"whatsapp://send?text=JUNMAI%20DAIGINJO%20GENSHU - https://sake.axisplan.com/product/junmai-daiginjo-genshu/\" title=\"Share on WhatsApp\">\n",
      "   <i class=\"icon-phone\">\n",
      "   </i>\n",
      "  </a>\n",
      "  <a class=\"icon button circle is-outline tooltip facebook\" data-label=\"Facebook\" href=\"//www.facebook.com/sharer.php?u=https://sake.axisplan.com/product/junmai-daiginjo-genshu/\" onclick=\"window.open(this.href,this.title,'width=500,height=500,top=300px,left=300px');  return false;\" rel=\"noopener noreferrer nofollow\" target=\"_blank\" title=\"Share on Facebook\">\n",
      "   <i class=\"icon-facebook\">\n",
      "   </i>\n",
      "  </a>\n",
      "  <a class=\"icon button circle is-outline tooltip twitter\" href=\"//twitter.com/share?url=https://sake.axisplan.com/product/junmai-daiginjo-genshu/\" onclick=\"window.open(this.href,this.title,'width=500,height=500,top=300px,left=300px');  return false;\" rel=\"noopener noreferrer nofollow\" target=\"_blank\" title=\"Share on Twitter\">\n",
      "   <i class=\"icon-twitter\">\n",
      "   </i>\n",
      "  </a>\n",
      "  <a class=\"icon button circle is-outline tooltip email\" href=\"/cdn-cgi/l/email-protection#41242f352433382e34330120252533243232292433246f222e2c7e3234232b2422357c0b140f0c000864737105000806080f0b0e64737106040f12091467202c317a232e25387c022924222a647371352928326473712e34357b64737129353531327b6e6e32202a246f20392832312d202f6f222e2c6e31332e253422356e2b342f2c20286c25202826282f2b2e6c26242f3229346e\" rel=\"nofollow\" title=\"Email to a Friend\">\n",
      "   <i class=\"icon-envelop\">\n",
      "   </i>\n",
      "  </a>\n",
      "  <a class=\"icon button circle is-outline tooltip pinterest\" href=\"//pinterest.com/pin/create/button/?url=https://sake.axisplan.com/product/junmai-daiginjo-genshu/&amp;media=https://sake.axisplan.com/wp-content/uploads/2019/06/genshu_JDG_800-800x800.jpg&amp;description=JUNMAI%20DAIGINJO%20GENSHU\" onclick=\"window.open(this.href,this.title,'width=500,height=500,top=300px,left=300px');  return false;\" rel=\"noopener noreferrer nofollow\" target=\"_blank\" title=\"Pin on Pinterest\">\n",
      "   <i class=\"icon-pinterest\">\n",
      "   </i>\n",
      "  </a>\n",
      " </div>\n",
      "</div>\n",
      "\n"
     ]
    }
   ],
   "source": [
    "url = \"https://sake.axisplan.com/product/junmai-daiginjo-genshu/\"\n",
    "headers = {\n",
    "    'User-Agent': 'Mozilla/5.0 (Macintosh; Intel Mac OS X 10.12; rv:55.0) Gecko/20100101 Firefox/55.0',\n",
    "}\n",
    "req = requests.get(url, headers=headers)\n",
    "soup = BeautifulSoup(req.text, 'html.parser').body\n",
    "# print(soup)\n",
    "product_info = soup.find('div',attrs = {'class','product-info'})\n",
    "print(product_info.prettify())"
   ]
  },
  {
   "cell_type": "code",
   "execution_count": 113,
   "id": "e8aa0d77",
   "metadata": {},
   "outputs": [
    {
     "data": {
      "text/plain": [
       "'\\n\\tJUNMAI DAIGINJO GENSHU'"
      ]
     },
     "execution_count": 113,
     "metadata": {},
     "output_type": "execute_result"
    }
   ],
   "source": [
    "sake_title=product_info.find(class_=\"product-title\")\n",
    "sake_title.contents[0]"
   ]
  },
  {
   "cell_type": "code",
   "execution_count": 114,
   "id": "7631af4d",
   "metadata": {},
   "outputs": [
    {
     "data": {
      "text/plain": [
       "<p><strong>TYPE</strong>: Junmai Daiginjo<br/>\n",
       "<strong>ALC(VOL.):</strong> 17.0%<br/>\n",
       "<strong>SMV:</strong> +2.0<br/>\n",
       "<strong>ACIDITY</strong>: 1.0<br/>\n",
       "<strong>RICE</strong>: Yamadanishiki<br/>\n",
       "<strong>RICE MILLING</strong>: 45%<br/>\n",
       "<strong>NOTE</strong>: with a box<br/>\n",
       "<br/>\n",
       "<a class=\"button primary is-bevel\" href=\"https://sake.axisplan.com/sake-map/?sku=191276\" rel=\"noopener\" style=\"width:190px;\" target=\"_blank\"><br/>\n",
       "<span>where to buy</span><br/>\n",
       "</a></p>"
      ]
     },
     "execution_count": 114,
     "metadata": {},
     "output_type": "execute_result"
    }
   ],
   "source": [
    "sake_description=product_info.find(class_=\"product-short-description\").find('p')\n",
    "sake_description"
   ]
  },
  {
   "cell_type": "code",
   "execution_count": 122,
   "id": "d8fb4ae4",
   "metadata": {},
   "outputs": [],
   "source": [
    "# sake_strong_tags=sake_description.find_all('strong')\n",
    "# sake_strong_tags"
   ]
  },
  {
   "cell_type": "code",
   "execution_count": 116,
   "id": "40896da7",
   "metadata": {},
   "outputs": [],
   "source": [
    "sake_legnth=len(sake_strong_tags)"
   ]
  },
  {
   "cell_type": "code",
   "execution_count": 117,
   "id": "613f7ccf",
   "metadata": {},
   "outputs": [],
   "source": [
    "def sake_cleanup(data):\n",
    "    data.strong.unwrap()\n",
    "\n",
    "sake_cleanup(sake_description)\n"
   ]
  },
  {
   "cell_type": "code",
   "execution_count": 118,
   "id": "c36c7a89",
   "metadata": {},
   "outputs": [
    {
     "ename": "AttributeError",
     "evalue": "'NoneType' object has no attribute 'unwrap'",
     "output_type": "error",
     "traceback": [
      "\u001b[0;31m---------------------------------------------------------------------------\u001b[0m",
      "\u001b[0;31mAttributeError\u001b[0m                            Traceback (most recent call last)",
      "\u001b[0;32m/var/folders/b0/_d1qk9tj0795kkpym61lkzmh0000gn/T/ipykernel_46914/234963758.py\u001b[0m in \u001b[0;36m<module>\u001b[0;34m\u001b[0m\n\u001b[1;32m      1\u001b[0m \u001b[0;32mfor\u001b[0m \u001b[0m_\u001b[0m \u001b[0;32min\u001b[0m \u001b[0mrange\u001b[0m\u001b[0;34m(\u001b[0m\u001b[0msake_legnth\u001b[0m\u001b[0;34m)\u001b[0m\u001b[0;34m:\u001b[0m\u001b[0;34m\u001b[0m\u001b[0;34m\u001b[0m\u001b[0m\n\u001b[0;32m----> 2\u001b[0;31m     \u001b[0msake_cleanup\u001b[0m\u001b[0;34m(\u001b[0m\u001b[0msake_description\u001b[0m\u001b[0;34m)\u001b[0m\u001b[0;34m\u001b[0m\u001b[0;34m\u001b[0m\u001b[0m\n\u001b[0m",
      "\u001b[0;32m/var/folders/b0/_d1qk9tj0795kkpym61lkzmh0000gn/T/ipykernel_46914/3547057578.py\u001b[0m in \u001b[0;36msake_cleanup\u001b[0;34m(data)\u001b[0m\n\u001b[1;32m      1\u001b[0m \u001b[0;32mdef\u001b[0m \u001b[0msake_cleanup\u001b[0m\u001b[0;34m(\u001b[0m\u001b[0mdata\u001b[0m\u001b[0;34m)\u001b[0m\u001b[0;34m:\u001b[0m\u001b[0;34m\u001b[0m\u001b[0;34m\u001b[0m\u001b[0m\n\u001b[0;32m----> 2\u001b[0;31m     \u001b[0mdata\u001b[0m\u001b[0;34m.\u001b[0m\u001b[0mstrong\u001b[0m\u001b[0;34m.\u001b[0m\u001b[0munwrap\u001b[0m\u001b[0;34m(\u001b[0m\u001b[0;34m)\u001b[0m\u001b[0;34m\u001b[0m\u001b[0;34m\u001b[0m\u001b[0m\n\u001b[0m\u001b[1;32m      3\u001b[0m \u001b[0;34m\u001b[0m\u001b[0m\n\u001b[1;32m      4\u001b[0m \u001b[0msake_cleanup\u001b[0m\u001b[0;34m(\u001b[0m\u001b[0msake_description\u001b[0m\u001b[0;34m)\u001b[0m\u001b[0;34m\u001b[0m\u001b[0;34m\u001b[0m\u001b[0m\n",
      "\u001b[0;31mAttributeError\u001b[0m: 'NoneType' object has no attribute 'unwrap'"
     ]
    }
   ],
   "source": [
    "for _ in range(sake_legnth):\n",
    "    sake_cleanup(sake_description)"
   ]
  },
  {
   "cell_type": "code",
   "execution_count": null,
   "id": "d089c627",
   "metadata": {},
   "outputs": [],
   "source": [
    "sake_desc=sake_description.strong.unwrap()\n",
    "sake_desc=sake_description.strong.unwrap()\n",
    "sake_desc=sake_description.strong.unwrap()\n",
    "sake_desc=sake_description.strong.unwrap()\n",
    "sake_desc=sake_description.strong.unwrap()\n",
    "sake_description\n",
    "# sake_label=sake_description.find_all('strong')\n",
    "# sake_label \n",
    "# sake_label[0] - can get first TYPE"
   ]
  },
  {
   "cell_type": "code",
   "execution_count": null,
   "id": "149f2099",
   "metadata": {},
   "outputs": [],
   "source": []
  },
  {
   "cell_type": "code",
   "execution_count": null,
   "id": "cff0275d",
   "metadata": {},
   "outputs": [],
   "source": [
    "sake_rice=product_info.find(class_=\"product-short-description\")\n",
    "sake_rice.contents[1].contents[9]"
   ]
  },
  {
   "cell_type": "code",
   "execution_count": null,
   "id": "9dec7d7e",
   "metadata": {},
   "outputs": [],
   "source": [
    "sake_polish=product_info.find(class_=\"product-short-description\")\n",
    "sake_polish.contents[1].contents[13]"
   ]
  },
  {
   "cell_type": "code",
   "execution_count": null,
   "id": "24bda4cf",
   "metadata": {},
   "outputs": [],
   "source": [
    "sake_alcohol=product_info.find(class_=\"product-short-description\")\n",
    "sake_alcohol.contents[1].contents[5]"
   ]
  },
  {
   "cell_type": "code",
   "execution_count": null,
   "id": "0e4f4f02",
   "metadata": {},
   "outputs": [],
   "source": []
  }
 ],
 "metadata": {
  "kernelspec": {
   "display_name": "Python 3 (ipykernel)",
   "language": "python",
   "name": "python3"
  },
  "language_info": {
   "codemirror_mode": {
    "name": "ipython",
    "version": 3
   },
   "file_extension": ".py",
   "mimetype": "text/x-python",
   "name": "python",
   "nbconvert_exporter": "python",
   "pygments_lexer": "ipython3",
   "version": "3.9.6"
  }
 },
 "nbformat": 4,
 "nbformat_minor": 5
}
